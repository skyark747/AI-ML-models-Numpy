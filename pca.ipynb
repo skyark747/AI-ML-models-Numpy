{
 "cells": [
  {
   "cell_type": "code",
   "execution_count": null,
   "id": "ca8786c6",
   "metadata": {},
   "outputs": [],
   "source": [
    "import pandas as pd\n",
    "import numpy as np\n",
    "from sklearn.model_selection import train_test_split\n",
    "from sklearn.datasets import load_iris\n",
    "import matplotlib.pyplot as plt\n",
    "import seaborn as sns"
   ]
  },
  {
   "cell_type": "code",
   "execution_count": null,
   "id": "cbce4942",
   "metadata": {},
   "outputs": [],
   "source": [
    "def covariance(X):\n",
    "    c=np.zeros((X.shape[1],X.shape[1]))\n",
    "    X_T=X.T\n",
    "    for i in range(X.shape[1]):\n",
    "        for j in range(X.shape[1]):\n",
    "            value=np.dot(X_T[i],X_T[j])\n",
    "            c[i,j]=value\n",
    "\n",
    "    c=c/X.shape[0]-1\n",
    "    return c\n",
    "        "
   ]
  },
  {
   "cell_type": "code",
   "execution_count": null,
   "id": "3a05768c",
   "metadata": {},
   "outputs": [],
   "source": [
    "def correlation(c,X_std):\n",
    "    cor=c/(X_std**2)\n",
    "    return cor"
   ]
  },
  {
   "cell_type": "code",
   "execution_count": null,
   "id": "62cbed34",
   "metadata": {},
   "outputs": [],
   "source": [
    "def principal_components(X,E):\n",
    "    return np.dot(X,E)"
   ]
  },
  {
   "cell_type": "code",
   "execution_count": null,
   "id": "c1174804",
   "metadata": {},
   "outputs": [],
   "source": [
    "iris=load_iris()\n",
    "X=iris.data\n",
    "Y=iris.target\n",
    "\n",
    "X_mean = X.mean()\n",
    "\n",
    "X_std = X.std()\n",
    "\n",
    "# Standardization\n",
    "X_new = (X - X_mean) / X_std\n"
   ]
  },
  {
   "cell_type": "code",
   "execution_count": null,
   "id": "09e47f51",
   "metadata": {},
   "outputs": [],
   "source": [
    "#finding the covariance matrix\n",
    "c=covariance(X_new)\n",
    "c"
   ]
  },
  {
   "cell_type": "code",
   "execution_count": null,
   "id": "ca9d76bb",
   "metadata": {},
   "outputs": [],
   "source": [
    "#finding the correlation matrix\n",
    "correlation=correlation(X_new,X_std)"
   ]
  },
  {
   "cell_type": "code",
   "execution_count": null,
   "id": "2ec1cd66",
   "metadata": {},
   "outputs": [],
   "source": [
    "sns.heatmap(correlation) #plotting heatmap for correlation"
   ]
  },
  {
   "cell_type": "code",
   "execution_count": null,
   "id": "04e10d64",
   "metadata": {},
   "outputs": [],
   "source": [
    "eigenvalues, eigenvectors = np.linalg.eig(c)\n",
    "idx = eigenvalues.argsort()[::-1]\n",
    "eigenvalues = eigenvalues[idx]\n",
    "eigenvectors = eigenvectors[:,idx]"
   ]
  },
  {
   "cell_type": "code",
   "execution_count": null,
   "id": "036f9c19",
   "metadata": {},
   "outputs": [],
   "source": [
    "#slecting only required components\n",
    "k=2\n",
    "top_eigvalues=eigenvalues[:k]\n",
    "top_eigvectors=eigenvectors[:,:k]"
   ]
  },
  {
   "cell_type": "code",
   "execution_count": null,
   "id": "4ac5c04b",
   "metadata": {},
   "outputs": [],
   "source": [
    "u=top_eigvectors/np.linalg.norm(top_eigvectors)"
   ]
  },
  {
   "cell_type": "code",
   "execution_count": null,
   "id": "7ecedbfc",
   "metadata": {},
   "outputs": [],
   "source": [
    "X_lower=principal_components(X_new,u)\n",
    "X_lower[:5] #priting first 5 rows"
   ]
  },
  {
   "cell_type": "code",
   "execution_count": null,
   "id": "64837189",
   "metadata": {},
   "outputs": [],
   "source": [
    "fig,ax=plt.subplots(1,1,figsize=(12,6))\n",
    "plt.scatter(X[:,0],X[:,1],c=Y)\n",
    "plt.xlabel('feature 1')\n",
    "plt.ylabel('feature 2')\n",
    "ax.set_title('original X')\n",
    "plt.show()"
   ]
  },
  {
   "cell_type": "code",
   "execution_count": null,
   "id": "62639a57",
   "metadata": {},
   "outputs": [],
   "source": [
    "fig,ax=plt.subplots(1,1,figsize=(12,6))\n",
    "plt.scatter(X_lower[:,0],X_lower[:,1],c=Y)\n",
    "plt.xlabel('pca 1')\n",
    "plt.ylabel('pca 2')\n",
    "ax.set_title('X transformed')\n",
    "plt.show()"
   ]
  }
 ],
 "metadata": {
  "kernelspec": {
   "display_name": "Python 3",
   "language": "python",
   "name": "python3"
  },
  "language_info": {
   "codemirror_mode": {
    "name": "ipython",
    "version": 3
   },
   "file_extension": ".py",
   "mimetype": "text/x-python",
   "name": "python",
   "nbconvert_exporter": "python",
   "pygments_lexer": "ipython3",
   "version": "3.13.1"
  }
 },
 "nbformat": 4,
 "nbformat_minor": 5
}
