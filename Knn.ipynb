{
 "cells": [
  {
   "cell_type": "code",
   "execution_count": null,
   "metadata": {},
   "outputs": [],
   "source": [
    "import numpy as np\n",
    "from collections import Counter\n",
    "import heapq\n",
    "from sklearn.model_selection import train_test_split\n",
    "from sklearn.datasets import load_iris\n",
    "\n",
    "def euclidean_distance(point1, point2):\n",
    "    return np.sqrt(np.sum((np.array(point1) - np.array(point2))**2))\n",
    "\n",
    "\n",
    "def knn(training_data, training_labels, test_point, k):\n",
    "    distances = []\n",
    "    for i in range(len(training_data)):\n",
    "        dist = euclidean_distance(test_point, training_data[i])\n",
    "        heapq.heappush(distances,(dist,training_labels[i]))\n",
    "    \n",
    "    k_nearest_labels=[]\n",
    "    for i in range(k):\n",
    "        _,label=heapq.heappop(distances)\n",
    "        k_nearest_labels.append(label)\n",
    "    return int(Counter(k_nearest_labels).most_common(1)[0][0])\n",
    "\n",
    "\n",
    "iris=load_iris()\n",
    "X=iris.data\n",
    "Y=iris.target\n",
    "X_train, X_test, y_train, y_test = train_test_split(X,Y,test_size=0.2)\n",
    "k_values = [3,5,4,1,2,8,6]\n",
    "\n",
    "for k in k_values:\n",
    "    prediction,accuracy=[],[]\n",
    "\n",
    "    for test_point in X_test:\n",
    "        prediction.append(knn(X_train, y_train,test_point, k))\n",
    "    \n",
    "    accuracy.append(np.mean(prediction==y_test))\n",
    "    print(f\"for {k} nearest neighbors prediction = {prediction}\")\n",
    "\n",
    "    print(f\"original labels of test set = {y_test}\")\n",
    "\n",
    "    print(f\"accuracies for different k = {accuracy}\\n\")\n"
   ]
  }
 ],
 "metadata": {
  "kernelspec": {
   "display_name": "Python 3",
   "language": "python",
   "name": "python3"
  },
  "language_info": {
   "codemirror_mode": {
    "name": "ipython",
    "version": 3
   },
   "file_extension": ".py",
   "mimetype": "text/x-python",
   "name": "python",
   "nbconvert_exporter": "python",
   "pygments_lexer": "ipython3",
   "version": "3.13.1"
  }
 },
 "nbformat": 4,
 "nbformat_minor": 2
}
